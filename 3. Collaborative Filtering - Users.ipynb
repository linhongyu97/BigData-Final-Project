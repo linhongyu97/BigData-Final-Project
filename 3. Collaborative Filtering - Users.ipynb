{
 "cells": [
  {
   "cell_type": "markdown",
   "metadata": {
    "ExecuteTime": {
     "end_time": "2020-11-19T07:49:32.915598Z",
     "start_time": "2020-11-19T07:49:32.911611Z"
    }
   },
   "source": [
    "# 基于用户的协同过滤\n",
    "- 东南大学软件学院 第15组\n",
    "- 组长：205512 王颢迪\n",
    "- 组员：205557 林泓宇、205554 宋希宁、205458 李乐翔、205558 罗世威\n",
    "205550 陈章权"
   ]
  },
  {
   "cell_type": "markdown",
   "metadata": {},
   "source": [
    "## 导入相关库"
   ]
  },
  {
   "cell_type": "code",
   "execution_count": 1,
   "metadata": {
    "ExecuteTime": {
     "end_time": "2020-11-21T06:55:34.531830Z",
     "start_time": "2020-11-21T06:55:32.665275Z"
    }
   },
   "outputs": [],
   "source": [
    "import numpy as np\n",
    "import pandas as pd\n",
    "from sklearn import preprocessing\n",
    "from math import *\n",
    "\n",
    "import warnings\n",
    "warnings.filterwarnings(\"ignore\")"
   ]
  },
  {
   "cell_type": "markdown",
   "metadata": {},
   "source": [
    "## 读取数据"
   ]
  },
  {
   "cell_type": "code",
   "execution_count": 2,
   "metadata": {
    "ExecuteTime": {
     "end_time": "2020-11-21T06:55:34.581765Z",
     "start_time": "2020-11-21T06:55:34.560707Z"
    }
   },
   "outputs": [],
   "source": [
    "names1 = ['good_id', 'good_name', 'good_type_id', 'good_price']\n",
    "df_good_info = pd.read_csv('./XJTU_GOOD_INFO.txt',header=None, names=names1, sep='|')\n",
    "\n",
    "names2 = ['good_type_id', 'good_type_desc']\n",
    "df_good_type = pd.read_csv('./XJTU_GOOD_TYPE.txt',header=None, names=names2, sep='|')\n",
    "\n",
    "names3 = ['user_name','user_id','province_id','province_name','join_date']\n",
    "df_user_info = pd.read_csv('./XJTU_USERINFO.txt',header=None, names=names3, sep='|')\n",
    "\n",
    "names4 = ['trans_no', 'user_id', 'trans_date', 'good_id', 'buy_num', 'amt']\n",
    "df_trans_detail = pd.read_csv('./XJTU_GOOD_TRANS_DETAIL.txt', header=None, names=names4, sep='|')"
   ]
  },
  {
   "cell_type": "markdown",
   "metadata": {},
   "source": [
    "## 数据维度审查"
   ]
  },
  {
   "cell_type": "code",
   "execution_count": 3,
   "metadata": {
    "ExecuteTime": {
     "end_time": "2020-11-21T06:55:34.681708Z",
     "start_time": "2020-11-21T06:55:34.671709Z"
    }
   },
   "outputs": [
    {
     "data": {
      "text/plain": [
       "'\\ndf_good_info.shape  # (6, 4)\\ndf_good_type.shape  # (3, 2)\\ndf_user_info.shape  # (252, 5)\\ndf_trans_detail.shape # (100, 6)\\n'"
      ]
     },
     "execution_count": 3,
     "metadata": {},
     "output_type": "execute_result"
    }
   ],
   "source": [
    "# 数据维度审查\n",
    "'''\n",
    "df_good_info.shape  # (6, 4)\n",
    "df_good_type.shape  # (3, 2)\n",
    "df_user_info.shape  # (252, 5)\n",
    "df_trans_detail.shape # (100, 6)\n",
    "'''"
   ]
  },
  {
   "cell_type": "markdown",
   "metadata": {},
   "source": [
    "## 基于用户的协同过滤实现"
   ]
  },
  {
   "cell_type": "code",
   "execution_count": 4,
   "metadata": {
    "ExecuteTime": {
     "end_time": "2020-11-21T06:55:34.822710Z",
     "start_time": "2020-11-21T06:55:34.813708Z"
    }
   },
   "outputs": [],
   "source": [
    "# 计算两个数组的相似度 - 基于 哈密顿距离\n",
    "def cal_sim(arr1, arr2):\n",
    "    sim = 0\n",
    "    for i in range(len(arr1)):\n",
    "        sim += abs(arr1[i]-arr2[i])\n",
    "    return sim"
   ]
  },
  {
   "cell_type": "code",
   "execution_count": 5,
   "metadata": {
    "ExecuteTime": {
     "end_time": "2020-11-21T06:55:34.854707Z",
     "start_time": "2020-11-21T06:55:34.824707Z"
    }
   },
   "outputs": [],
   "source": [
    "# 建立透视表 ： user_id - good_id ， 单元格表示：某个user购买某个good的总数量\n",
    "df_data_pivot_goodid_userid = df_trans_detail.pivot_table(index='user_id',columns='good_id',values='buy_num',aggfunc='sum')\n",
    "df_data_pivot_goodid_userid = df_data_pivot_goodid_userid.fillna(0) # Nan -> 0 "
   ]
  },
  {
   "cell_type": "code",
   "execution_count": 6,
   "metadata": {
    "ExecuteTime": {
     "end_time": "2020-11-21T06:55:34.962738Z",
     "start_time": "2020-11-21T06:55:34.944710Z"
    }
   },
   "outputs": [
    {
     "data": {
      "text/html": [
       "<div>\n",
       "<style scoped>\n",
       "    .dataframe tbody tr th:only-of-type {\n",
       "        vertical-align: middle;\n",
       "    }\n",
       "\n",
       "    .dataframe tbody tr th {\n",
       "        vertical-align: top;\n",
       "    }\n",
       "\n",
       "    .dataframe thead th {\n",
       "        text-align: right;\n",
       "    }\n",
       "</style>\n",
       "<table border=\"1\" class=\"dataframe\">\n",
       "  <thead>\n",
       "    <tr style=\"text-align: right;\">\n",
       "      <th>good_id</th>\n",
       "      <th>1001</th>\n",
       "      <th>1002</th>\n",
       "      <th>2001</th>\n",
       "      <th>2002</th>\n",
       "      <th>3001</th>\n",
       "    </tr>\n",
       "    <tr>\n",
       "      <th>user_id</th>\n",
       "      <th></th>\n",
       "      <th></th>\n",
       "      <th></th>\n",
       "      <th></th>\n",
       "      <th></th>\n",
       "    </tr>\n",
       "  </thead>\n",
       "  <tbody>\n",
       "    <tr>\n",
       "      <th>baiyc</th>\n",
       "      <td>0.0</td>\n",
       "      <td>0.0</td>\n",
       "      <td>0.0</td>\n",
       "      <td>0.0</td>\n",
       "      <td>5.0</td>\n",
       "    </tr>\n",
       "    <tr>\n",
       "      <th>borh</th>\n",
       "      <td>6.0</td>\n",
       "      <td>0.0</td>\n",
       "      <td>0.0</td>\n",
       "      <td>0.0</td>\n",
       "      <td>0.0</td>\n",
       "    </tr>\n",
       "    <tr>\n",
       "      <th>caolin_bds</th>\n",
       "      <td>5.0</td>\n",
       "      <td>0.0</td>\n",
       "      <td>0.0</td>\n",
       "      <td>0.0</td>\n",
       "      <td>0.0</td>\n",
       "    </tr>\n",
       "    <tr>\n",
       "      <th>chengyy</th>\n",
       "      <td>6.0</td>\n",
       "      <td>0.0</td>\n",
       "      <td>0.0</td>\n",
       "      <td>0.0</td>\n",
       "      <td>0.0</td>\n",
       "    </tr>\n",
       "    <tr>\n",
       "      <th>chenhx</th>\n",
       "      <td>6.0</td>\n",
       "      <td>0.0</td>\n",
       "      <td>0.0</td>\n",
       "      <td>0.0</td>\n",
       "      <td>0.0</td>\n",
       "    </tr>\n",
       "  </tbody>\n",
       "</table>\n",
       "</div>"
      ],
      "text/plain": [
       "good_id     1001  1002  2001  2002  3001\n",
       "user_id                                 \n",
       "baiyc        0.0   0.0   0.0   0.0   5.0\n",
       "borh         6.0   0.0   0.0   0.0   0.0\n",
       "caolin_bds   5.0   0.0   0.0   0.0   0.0\n",
       "chengyy      6.0   0.0   0.0   0.0   0.0\n",
       "chenhx       6.0   0.0   0.0   0.0   0.0"
      ]
     },
     "execution_count": 6,
     "metadata": {},
     "output_type": "execute_result"
    }
   ],
   "source": [
    "df_data_pivot_goodid_userid.head()"
   ]
  },
  {
   "cell_type": "code",
   "execution_count": 7,
   "metadata": {
    "ExecuteTime": {
     "end_time": "2020-11-21T06:55:35.185751Z",
     "start_time": "2020-11-21T06:55:35.182744Z"
    }
   },
   "outputs": [],
   "source": [
    "# 对每一列做 min-max scaler 转换到区间[0,1]内\n",
    "scaler = preprocessing.MinMaxScaler()\n",
    "arr_scaler = scaler.fit_transform(df_data_pivot_goodid_userid.values)"
   ]
  },
  {
   "cell_type": "code",
   "execution_count": 8,
   "metadata": {
    "ExecuteTime": {
     "end_time": "2020-11-21T06:55:35.203743Z",
     "start_time": "2020-11-21T06:55:35.187744Z"
    },
    "scrolled": true
   },
   "outputs": [
    {
     "data": {
      "text/plain": [
       "array([[0.        , 0.        , 0.        , 0.        , 0.625     ],\n",
       "       [0.33333333, 0.        , 0.        , 0.        , 0.        ],\n",
       "       [0.27777778, 0.        , 0.        , 0.        , 0.        ],\n",
       "       [0.33333333, 0.        , 0.        , 0.        , 0.        ],\n",
       "       [0.33333333, 0.        , 0.        , 0.        , 0.        ],\n",
       "       [0.        , 0.        , 0.        , 0.        , 0.25      ],\n",
       "       [0.        , 0.88888889, 0.        , 0.        , 0.        ],\n",
       "       [0.        , 0.        , 0.        , 0.        , 0.25      ],\n",
       "       [0.        , 1.        , 0.        , 0.        , 0.        ],\n",
       "       [0.05555556, 0.        , 0.        , 0.        , 0.        ],\n",
       "       [0.        , 0.        , 0.        , 0.        , 0.875     ],\n",
       "       [0.        , 1.        , 0.        , 0.        , 0.        ],\n",
       "       [0.        , 0.        , 0.        , 0.30769231, 0.        ],\n",
       "       [0.        , 0.        , 0.        , 0.23076923, 0.        ],\n",
       "       [0.        , 0.        , 0.33333333, 0.        , 0.        ],\n",
       "       [0.        , 0.        , 0.        , 1.        , 0.        ],\n",
       "       [0.        , 0.88888889, 0.        , 0.        , 0.        ],\n",
       "       [0.        , 0.        , 0.        , 0.        , 1.        ],\n",
       "       [1.        , 0.        , 0.        , 0.        , 0.        ],\n",
       "       [0.        , 0.11111111, 0.        , 0.07692308, 0.        ],\n",
       "       [0.        , 0.55555556, 0.        , 0.        , 0.        ],\n",
       "       [0.        , 0.        , 0.        , 0.        , 0.75      ],\n",
       "       [0.        , 0.        , 0.22222222, 0.        , 0.        ],\n",
       "       [0.        , 0.        , 0.        , 0.30769231, 0.        ],\n",
       "       [0.        , 0.        , 0.        , 0.        , 0.625     ],\n",
       "       [0.        , 0.        , 0.11111111, 0.        , 0.        ],\n",
       "       [0.        , 0.        , 0.        , 0.        , 0.125     ],\n",
       "       [0.22222222, 0.        , 0.        , 0.        , 0.        ],\n",
       "       [0.        , 0.88888889, 0.        , 0.07692308, 0.        ],\n",
       "       [0.        , 0.        , 0.        , 0.69230769, 0.        ],\n",
       "       [0.5       , 0.22222222, 0.        , 0.        , 0.        ],\n",
       "       [0.        , 0.22222222, 0.        , 0.        , 0.        ],\n",
       "       [0.        , 0.        , 0.        , 0.        , 0.25      ],\n",
       "       [0.        , 0.        , 0.        , 0.        , 1.        ],\n",
       "       [0.11111111, 0.        , 0.        , 0.        , 0.        ],\n",
       "       [0.5       , 0.        , 0.        , 0.        , 0.        ],\n",
       "       [0.        , 0.        , 0.44444444, 0.        , 0.        ],\n",
       "       [0.        , 0.        , 0.        , 0.38461538, 0.        ],\n",
       "       [0.        , 0.33333333, 0.        , 0.07692308, 0.        ],\n",
       "       [0.        , 0.        , 1.        , 0.        , 0.        ],\n",
       "       [0.        , 0.        , 0.        , 0.        , 0.375     ],\n",
       "       [0.        , 0.        , 0.77777778, 0.        , 0.        ],\n",
       "       [0.05555556, 0.        , 0.        , 0.        , 0.        ],\n",
       "       [0.5       , 0.        , 0.        , 0.        , 0.        ],\n",
       "       [0.        , 0.        , 0.11111111, 0.        , 0.        ],\n",
       "       [0.        , 0.77777778, 0.        , 0.        , 0.        ],\n",
       "       [0.        , 0.        , 1.        , 0.        , 0.        ],\n",
       "       [0.        , 0.        , 0.33333333, 0.53846154, 0.        ],\n",
       "       [0.        , 0.55555556, 0.        , 0.        , 0.        ],\n",
       "       [0.16666667, 0.        , 0.        , 0.        , 0.        ],\n",
       "       [0.        , 0.        , 0.        , 0.        , 0.375     ],\n",
       "       [0.33333333, 0.        , 0.        , 0.        , 0.        ],\n",
       "       [0.05555556, 0.        , 0.        , 0.        , 0.        ],\n",
       "       [0.27777778, 0.        , 0.        , 0.61538462, 0.        ],\n",
       "       [0.        , 0.77777778, 0.        , 0.        , 0.        ],\n",
       "       [0.        , 0.        , 1.        , 0.        , 0.        ],\n",
       "       [0.16666667, 0.        , 0.        , 0.        , 0.        ],\n",
       "       [0.        , 0.        , 0.        , 0.30769231, 0.        ],\n",
       "       [0.        , 0.22222222, 0.        , 0.        , 0.        ],\n",
       "       [0.22222222, 0.        , 0.        , 0.        , 0.        ],\n",
       "       [0.        , 0.44444444, 0.77777778, 0.        , 0.        ],\n",
       "       [0.        , 0.        , 0.33333333, 0.        , 0.        ],\n",
       "       [0.27777778, 1.        , 0.        , 0.        , 0.        ],\n",
       "       [0.        , 0.22222222, 0.44444444, 0.        , 0.        ],\n",
       "       [0.        , 0.        , 0.88888889, 0.        , 0.        ],\n",
       "       [0.44444444, 0.        , 0.77777778, 0.        , 0.        ],\n",
       "       [0.        , 0.77777778, 0.        , 0.        , 0.25      ],\n",
       "       [0.        , 0.        , 0.        , 0.23076923, 0.375     ],\n",
       "       [0.        , 0.66666667, 0.        , 0.        , 0.        ],\n",
       "       [0.        , 0.        , 0.        , 0.61538462, 0.        ],\n",
       "       [0.        , 0.        , 0.        , 0.23076923, 0.        ],\n",
       "       [0.        , 0.        , 0.44444444, 0.30769231, 0.        ],\n",
       "       [0.        , 0.        , 0.        , 0.30769231, 0.        ],\n",
       "       [0.33333333, 0.        , 0.        , 0.        , 0.        ],\n",
       "       [0.5       , 0.44444444, 0.        , 0.        , 0.        ],\n",
       "       [0.22222222, 0.        , 0.        , 0.        , 0.25      ],\n",
       "       [0.        , 0.        , 0.        , 0.23076923, 0.        ],\n",
       "       [0.        , 0.        , 0.33333333, 0.        , 0.        ],\n",
       "       [0.        , 0.88888889, 0.44444444, 0.        , 0.        ],\n",
       "       [0.        , 0.        , 0.        , 0.53846154, 0.        ]])"
      ]
     },
     "execution_count": 8,
     "metadata": {},
     "output_type": "execute_result"
    }
   ],
   "source": [
    "arr_scaler"
   ]
  },
  {
   "cell_type": "code",
   "execution_count": 9,
   "metadata": {
    "ExecuteTime": {
     "end_time": "2020-11-21T06:55:35.316742Z",
     "start_time": "2020-11-21T06:55:35.274804Z"
    }
   },
   "outputs": [],
   "source": [
    "# 建立购买行为表，查询用户是否对某件商品有过购买行为\n",
    "# 0代表没有，1代表有\n",
    "df_buy_or_not = df_data_pivot_goodid_userid.copy()\n",
    "\n",
    "for i in range(df_buy_or_not.shape[0]):\n",
    "    for j in range(df_buy_or_not.shape[1]):\n",
    "        if (df_buy_or_not.iloc[i,j] > 0):\n",
    "            df_buy_or_not.iloc[i,j] = 1"
   ]
  },
  {
   "cell_type": "code",
   "execution_count": 10,
   "metadata": {
    "ExecuteTime": {
     "end_time": "2020-11-21T06:55:35.330131Z",
     "start_time": "2020-11-21T06:55:35.318945Z"
    }
   },
   "outputs": [],
   "source": [
    "def recom(user_id):\n",
    "    \n",
    "    #user_id = 'zhunl' # 传入参数\n",
    "\n",
    "    res_1 = []\n",
    "    index_of_user = list(df_data_pivot_goodid_userid.index).index(user_id) # 获取user_id在透视表中的行数\n",
    "    for i in range(arr_scaler.shape[0]):\n",
    "        dis = cal_sim(arr_scaler[index_of_user,:], arr_scaler[i, :])\n",
    "        #print(dis)\n",
    "\n",
    "        res_1.append(dis)\n",
    "\n",
    "    res_s1 = pd.Series(data=res_1)  \n",
    "    res_s1 = res_s1.nsmallest(arr_scaler.shape[0]) # 根据哈密顿 从小到大排序\n",
    "\n",
    "    for i in range(len(res_s1.index)):\n",
    "        compare_arr = df_buy_or_not.iloc[res_s1.index[i], :].values - df_buy_or_not.loc[user_id, :].values\n",
    "        for j in range(0, len(compare_arr)):\n",
    "            if (compare_arr[j] > 0):\n",
    "                return df_data_pivot_goodid_userid.columns[j]"
   ]
  },
  {
   "cell_type": "code",
   "execution_count": 11,
   "metadata": {
    "ExecuteTime": {
     "end_time": "2020-11-21T06:55:35.336130Z",
     "start_time": "2020-11-21T06:55:35.331129Z"
    }
   },
   "outputs": [
    {
     "data": {
      "text/plain": [
       "'\\nsum(df_data_pivot_goodid_userid.values[:,0]), sum(df_data_pivot_goodid_userid.values[:,1]), sum(df_data_pivot_goodid_userid.values[:,2]),    sum(df_data_pivot_goodid_userid.values[:,3]), sum(df_data_pivot_goodid_userid.values[:,3])\\n'"
      ]
     },
     "execution_count": 11,
     "metadata": {},
     "output_type": "execute_result"
    }
   ],
   "source": [
    "# 冷启动问题\n",
    "'''\n",
    "sum(df_data_pivot_goodid_userid.values[:,0]), sum(df_data_pivot_goodid_userid.values[:,1]), sum(df_data_pivot_goodid_userid.values[:,2]), \\\n",
    "   sum(df_data_pivot_goodid_userid.values[:,3]), sum(df_data_pivot_goodid_userid.values[:,3])\n",
    "'''\n",
    "# (130.0, 116.0, 88.0, 92.0, 92.0)\n",
    "# 统计每个商品(good_id)被购买的总数，以最大的作为“基准”，应付冷启动问题\n",
    "# 即：对于每个没有买过商品的用户，推荐“基准”商品，这里对应就是good_id = 1001 的商品"
   ]
  },
  {
   "cell_type": "code",
   "execution_count": 12,
   "metadata": {
    "ExecuteTime": {
     "end_time": "2020-11-21T06:55:36.146133Z",
     "start_time": "2020-11-21T06:55:36.143179Z"
    }
   },
   "outputs": [],
   "source": [
    "# for i in range(0, arr_scaler.shape[0]):\n",
    "#     dis = 9999\n",
    "#     flag = -1\n",
    "#     for j in range(0, arr_scaler.shape[0]):\n",
    "#         if (i != j):\n",
    "#             if (dis > cal_sim(arr_scaler[i, :], arr_scaler[j, :])):\n",
    "#                 dis = cal_sim(arr_scaler[i, :], arr_scaler[j, :])\n",
    "#                 flag = j\n",
    "\n",
    "#     #df_data_pivot_goodid_userid.iloc[i, -1] = flag\n",
    "#     #df_data_pivot_goodid_userid.iloc[i, -1] = np.argmax(df_data_pivot_goodid_userid.iloc[24, 0:-1].values)\n",
    "    \n",
    "#     # flag : 最相似用户的所在的行数\n",
    "#     # df_data_pivot_goodid_userid.index[flag] : 最相似用户的 user_id\n",
    "#     # np.argmax(df_data_pivot_goodid_userid.iloc[flag,0:-1]) ： 最相似用户购买总数最多的商品对应的 good_id\n",
    "#     df_data_pivot_goodid_userid.iloc[i, -1] = np.argmax(df_data_pivot_goodid_userid.iloc[flag, 0:-1])\n"
   ]
  },
  {
   "cell_type": "markdown",
   "metadata": {},
   "source": [
    "## 推荐测试"
   ]
  },
  {
   "cell_type": "code",
   "execution_count": 13,
   "metadata": {
    "ExecuteTime": {
     "end_time": "2020-11-21T06:55:36.315702Z",
     "start_time": "2020-11-21T06:55:36.311654Z"
    }
   },
   "outputs": [
    {
     "data": {
      "text/plain": [
       "'\\n# test case: hanwei pangjie  （有过购买行为的user_id)\\n# test case: shichuan  (没有过购买行为的user_id)\\ns1 = input(\"请输入需要推荐的顾客的user_id: \")\\nprint(recom(s1))\\n'"
      ]
     },
     "execution_count": 13,
     "metadata": {},
     "output_type": "execute_result"
    }
   ],
   "source": [
    "'''\n",
    "# test case: hanwei pangjie  （有过购买行为的user_id)\n",
    "# test case: shichuan  (没有过购买行为的user_id)\n",
    "s1 = input(\"请输入需要推荐的顾客的user_id: \")\n",
    "print(recom(s1))\n",
    "'''"
   ]
  },
  {
   "cell_type": "code",
   "execution_count": 14,
   "metadata": {
    "ExecuteTime": {
     "end_time": "2020-11-21T06:55:36.461695Z",
     "start_time": "2020-11-21T06:55:36.457653Z"
    }
   },
   "outputs": [],
   "source": [
    "def recom_output(user_id):\n",
    "    if (user_id in df_data_pivot_goodid_userid.index):\n",
    "        recom_id = recom(user_id)\n",
    "    else:\n",
    "        recom_id = 1001\n",
    "        \n",
    "    str_recom_out = str(recom_id) + str(' ') + df_good_info[df_good_info['good_id']==recom_id]['good_name'].values[0]\n",
    "    \n",
    "    return str_recom_out"
   ]
  },
  {
   "cell_type": "code",
   "execution_count": 15,
   "metadata": {
    "ExecuteTime": {
     "end_time": "2020-11-21T06:57:34.675763Z",
     "start_time": "2020-11-21T06:57:34.668813Z"
    }
   },
   "outputs": [
    {
     "data": {
      "text/plain": [
       "'2002 洗发水'"
      ]
     },
     "execution_count": 15,
     "metadata": {},
     "output_type": "execute_result"
    }
   ],
   "source": [
    "recom_output('zhunl')"
   ]
  },
  {
   "cell_type": "markdown",
   "metadata": {},
   "source": [
    "## 推荐可视化"
   ]
  },
  {
   "cell_type": "code",
   "execution_count": 16,
   "metadata": {
    "ExecuteTime": {
     "end_time": "2020-11-21T06:55:49.064307Z",
     "start_time": "2020-11-21T06:55:36.779694Z"
    }
   },
   "outputs": [],
   "source": [
    "#首先导入tk\n",
    "import tkinter as tk\n",
    "\n",
    "window=tk.Tk()\n",
    "window.title('商品推荐系统')\n",
    "window.geometry('500x350+300+200')#窗口大小\n",
    "\n",
    "ipt=tk.Entry(window,show=None,font=('微软雅黑',20))#show代表显示，如果是输入密码的话show='*'，这样显示就是*号\n",
    "\n",
    "ipt.pack()#布局\n",
    "\n",
    "def button():#button函数方法\n",
    "    val=ipt.get()#获取输入的值\n",
    "    #print(val) # 可记录输入\n",
    "    rs = recom_output(val)\n",
    "    #rs = str(recom(val)) + str(' ') + df_good_info[df_good_info['good_id']==recom(val)]['good_name'].values[0]\n",
    "    value.set(rs)#将输入的值赋给value\n",
    "\n",
    "b = tk.Button(window,text='推荐',width=15,height=2,command=button)#定义一个button，text为button，command为其绑定一个函数方法\n",
    "b.pack()\n",
    "value=tk.StringVar()#定义字符类型的变量，tk.IntVar()定义数字类型的变量\n",
    "l=tk.Label(window,textvariable=value,bg='white',font=('微软雅黑',20),width=20,height=2)\n",
    "l.pack()\n",
    "\n",
    "window.mainloop()#显示窗口"
   ]
  },
  {
   "cell_type": "code",
   "execution_count": null,
   "metadata": {},
   "outputs": [],
   "source": []
  },
  {
   "cell_type": "code",
   "execution_count": null,
   "metadata": {},
   "outputs": [],
   "source": []
  }
 ],
 "metadata": {
  "kernelspec": {
   "display_name": "Python 3",
   "language": "python",
   "name": "python3"
  },
  "language_info": {
   "codemirror_mode": {
    "name": "ipython",
    "version": 3
   },
   "file_extension": ".py",
   "mimetype": "text/x-python",
   "name": "python",
   "nbconvert_exporter": "python",
   "pygments_lexer": "ipython3",
   "version": "3.6.12"
  },
  "toc": {
   "base_numbering": 1,
   "nav_menu": {},
   "number_sections": true,
   "sideBar": true,
   "skip_h1_title": false,
   "title_cell": "Table of Contents",
   "title_sidebar": "Contents",
   "toc_cell": false,
   "toc_position": {},
   "toc_section_display": true,
   "toc_window_display": false
  },
  "varInspector": {
   "cols": {
    "lenName": 16,
    "lenType": 16,
    "lenVar": 40
   },
   "kernels_config": {
    "python": {
     "delete_cmd_postfix": "",
     "delete_cmd_prefix": "del ",
     "library": "var_list.py",
     "varRefreshCmd": "print(var_dic_list())"
    },
    "r": {
     "delete_cmd_postfix": ") ",
     "delete_cmd_prefix": "rm(",
     "library": "var_list.r",
     "varRefreshCmd": "cat(var_dic_list()) "
    }
   },
   "types_to_exclude": [
    "module",
    "function",
    "builtin_function_or_method",
    "instance",
    "_Feature"
   ],
   "window_display": false
  }
 },
 "nbformat": 4,
 "nbformat_minor": 4
}
