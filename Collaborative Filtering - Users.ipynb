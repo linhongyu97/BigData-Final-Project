{
 "cells": [
  {
   "cell_type": "markdown",
   "metadata": {
    "ExecuteTime": {
     "end_time": "2020-11-19T07:49:32.915598Z",
     "start_time": "2020-11-19T07:49:32.911611Z"
    }
   },
   "source": [
    "# 基于用户的协同过滤\n"
   ]
  },
  {
   "cell_type": "markdown",
   "metadata": {},
   "source": [
    "## 导入相关库"
   ]
  },
  {
   "cell_type": "code",
   "execution_count": null,
   "metadata": {
    "ExecuteTime": {
     "end_time": "2020-11-19T09:41:24.739280Z",
     "start_time": "2020-11-19T09:41:24.735279Z"
    }
   },
   "outputs": [],
   "source": [
    "import numpy as np\n",
    "import pandas as pd\n",
    "from sklearn import preprocessing\n",
    "\n",
    "import warnings\n",
    "warnings.filterwarnings(\"ignore\")"
   ]
  },
  {
   "cell_type": "markdown",
   "metadata": {},
   "source": [
    "## 读取数据"
   ]
  },
  {
   "cell_type": "code",
   "execution_count": null,
   "metadata": {
    "ExecuteTime": {
     "end_time": "2020-11-19T09:41:25.234888Z",
     "start_time": "2020-11-19T09:41:25.203816Z"
    }
   },
   "outputs": [],
   "source": [
    "names1 = ['good_id', 'good_name', 'good_type_id', 'good_price']\n",
    "df_good_info = pd.read_csv('./XJTU_GOOD_INFO.txt',header=None, names=names1, sep='|')\n",
    "\n",
    "names2 = ['good_type_id', 'good_type_desc']\n",
    "df_good_type = pd.read_csv('./XJTU_GOOD_TYPE.txt',header=None, names=names2, sep='|')\n",
    "\n",
    "names3 = ['user_name','user_id','province_id','province_name','join_date']\n",
    "df_user_info = pd.read_csv('./XJTU_USERINFO.txt',header=None, names=names3, sep='|')\n",
    "\n",
    "names4 = ['tans_no', 'user_id', 'trans_date', 'good_id', 'buy_num', 'amt']\n",
    "df_trans_detail = pd.read_csv('./XJTU_GOOD_TRANS_DETAIL.txt', header=None, names=names4, sep='|')"
   ]
  },
  {
   "cell_type": "markdown",
   "metadata": {},
   "source": [
    "## 数据维度审查"
   ]
  },
  {
   "cell_type": "code",
   "execution_count": null,
   "metadata": {
    "ExecuteTime": {
     "end_time": "2020-11-19T09:41:25.587867Z",
     "start_time": "2020-11-19T09:41:25.581849Z"
    }
   },
   "outputs": [],
   "source": [
    "# 数据维度审查\n",
    "'''\n",
    "df_good_info.shape  # (6, 4)\n",
    "df_good_type.shape  # (3, 2)\n",
    "df_user_info.shape  # (252, 5)\n",
    "df_trans_detail.shape # (100, 6)\n",
    "'''"
   ]
  },
  {
   "cell_type": "markdown",
   "metadata": {},
   "source": [
    "## 基于用户的协同过滤实现"
   ]
  },
  {
   "cell_type": "code",
   "execution_count": null,
   "metadata": {
    "ExecuteTime": {
     "end_time": "2020-11-19T09:41:26.046849Z",
     "start_time": "2020-11-19T09:41:26.038854Z"
    }
   },
   "outputs": [],
   "source": [
    "# 计算两个数组的相似度 - 基于 哈密顿距离\n",
    "def cal_sim(arr1, arr2):\n",
    "    sim = 0\n",
    "    for i in range(len(arr1)):\n",
    "        sim += abs(arr1[i]-arr2[i])\n",
    "    return sim"
   ]
  },
  {
   "cell_type": "code",
   "execution_count": null,
   "metadata": {
    "ExecuteTime": {
     "end_time": "2020-11-19T09:41:26.283016Z",
     "start_time": "2020-11-19T09:41:26.255015Z"
    }
   },
   "outputs": [],
   "source": [
    "# 建立透视表 ： user_id - good_id ， 单元格表示：某个user购买某个good的总数量\n",
    "df_data_pivot_goodid_userid = df_trans_detail.pivot_table(index='user_id',columns='good_id',values='buy_num',aggfunc='sum')\n",
    "df_data_pivot_goodid_userid = df_data_pivot_goodid_userid.fillna(0) # Nan -> 0 "
   ]
  },
  {
   "cell_type": "code",
   "execution_count": null,
   "metadata": {
    "ExecuteTime": {
     "end_time": "2020-11-19T09:41:26.537016Z",
     "start_time": "2020-11-19T09:41:26.514016Z"
    }
   },
   "outputs": [],
   "source": [
    "df_data_pivot_goodid_userid.head()"
   ]
  },
  {
   "cell_type": "code",
   "execution_count": null,
   "metadata": {
    "ExecuteTime": {
     "end_time": "2020-11-19T09:41:26.752018Z",
     "start_time": "2020-11-19T09:41:26.743018Z"
    }
   },
   "outputs": [],
   "source": [
    "# 对每一列做 min-max scaler 转换到区间[0,1]内\n",
    "scaler = preprocessing.MinMaxScaler()\n",
    "arr_scaler = scaler.fit_transform(df_data_pivot_goodid_userid.values)"
   ]
  },
  {
   "cell_type": "code",
   "execution_count": null,
   "metadata": {
    "ExecuteTime": {
     "end_time": "2020-11-19T09:41:27.028018Z",
     "start_time": "2020-11-19T09:41:27.020018Z"
    }
   },
   "outputs": [],
   "source": [
    "df_data_pivot_goodid_userid['Recommendation'] = 0  # 用于存储推荐商品的 good_id"
   ]
  },
  {
   "cell_type": "code",
   "execution_count": null,
   "metadata": {
    "ExecuteTime": {
     "end_time": "2020-11-19T09:41:27.494156Z",
     "start_time": "2020-11-19T09:41:27.271163Z"
    }
   },
   "outputs": [],
   "source": [
    "for i in range(0, arr_scaler.shape[0]):\n",
    "    dis = 9999\n",
    "    flag = -1\n",
    "    for j in range(0, arr_scaler.shape[0]):\n",
    "        if (i != j):\n",
    "            if (dis > cal_sim(arr_scaler[i, :], arr_scaler[j, :])):\n",
    "                dis = cal_sim(arr_scaler[i, :], arr_scaler[j, :])\n",
    "                flag = j\n",
    "\n",
    "    #df_data_pivot_goodid_userid.iloc[i, -1] = flag\n",
    "    #df_data_pivot_goodid_userid.iloc[i, -1] = np.argmax(df_data_pivot_goodid_userid.iloc[24, 0:-1].values)\n",
    "    \n",
    "    # flag : 最相似用户的所在的行数\n",
    "    # df_data_pivot_goodid_userid.index[flag] : 最相似用户的 user_id\n",
    "    # np.argmax(df_data_pivot_goodid_userid.iloc[flag,0:-1]) ： 最相似用户购买总数最多的商品对应的 good_id\n",
    "    df_data_pivot_goodid_userid.iloc[i, -1] = np.argmax(df_data_pivot_goodid_userid.iloc[flag, 0:-1])\n"
   ]
  },
  {
   "cell_type": "code",
   "execution_count": null,
   "metadata": {
    "ExecuteTime": {
     "end_time": "2020-11-19T09:41:27.571175Z",
     "start_time": "2020-11-19T09:41:27.564155Z"
    }
   },
   "outputs": [],
   "source": [
    "'''\n",
    "sum(df_data_pivot_goodid_userid.values[:,0]), sum(df_data_pivot_goodid_userid.values[:,1]), sum(df_data_pivot_goodid_userid.values[:,2]), \\\n",
    "   sum(df_data_pivot_goodid_userid.values[:,3]), sum(df_data_pivot_goodid_userid.values[:,3])\n",
    "'''\n",
    "# (130.0, 116.0, 88.0, 92.0, 92.0)\n",
    "# 统计每个商品(good_id)被购买的总数，以最大的作为“基准”，应付冷启动问题\n",
    "# 即：对于每个没有买过商品的用户，推荐“基准”商品，这里对应就是good_id = 1001 的商品"
   ]
  },
  {
   "cell_type": "code",
   "execution_count": null,
   "metadata": {
    "ExecuteTime": {
     "end_time": "2020-11-19T09:41:27.943386Z",
     "start_time": "2020-11-19T09:41:27.936444Z"
    }
   },
   "outputs": [],
   "source": [
    "# 传入user_id， 输出推荐的good_id\n",
    "def recom(user_id):\n",
    "    if (user_id in df_data_pivot_goodid_userid.index):\n",
    "        return int(df_data_pivot_goodid_userid.ix[user_id, -1])\n",
    "    else:\n",
    "        return 1001"
   ]
  },
  {
   "cell_type": "code",
   "execution_count": null,
   "metadata": {
    "ExecuteTime": {
     "end_time": "2020-11-19T09:41:28.245384Z",
     "start_time": "2020-11-19T09:41:28.220421Z"
    }
   },
   "outputs": [],
   "source": [
    "# 有过购买行为的user_id 的 以往购买行为 和 推荐结果\n",
    "df_data_pivot_goodid_userid.head()"
   ]
  },
  {
   "cell_type": "code",
   "execution_count": null,
   "metadata": {},
   "outputs": [],
   "source": []
  },
  {
   "cell_type": "markdown",
   "metadata": {},
   "source": [
    "## 推荐测试"
   ]
  },
  {
   "cell_type": "code",
   "execution_count": null,
   "metadata": {
    "ExecuteTime": {
     "end_time": "2020-11-19T09:41:33.196862Z",
     "start_time": "2020-11-19T09:41:29.233698Z"
    }
   },
   "outputs": [],
   "source": [
    "# test case: hanwei pangjie  （有过购买行为的user_id)\n",
    "# test case: shichuan  (没有过购买行为的user_id)\n",
    "s1 = input(\"请输入需要推荐的顾客的user_id: \")\n",
    "print(recom(s1), df_good_info[df_good_info['good_id'] == recom(s1)]['good_name'].values[0])"
   ]
  },
  {
   "cell_type": "code",
   "execution_count": null,
   "metadata": {},
   "outputs": [],
   "source": []
  }
 ],
 "metadata": {
  "kernelspec": {
   "display_name": "Python 3",
   "language": "python",
   "name": "python3"
  },
  "language_info": {
   "codemirror_mode": {
    "name": "ipython",
    "version": 3
   },
   "file_extension": ".py",
   "mimetype": "text/x-python",
   "name": "python",
   "nbconvert_exporter": "python",
   "pygments_lexer": "ipython3",
   "version": "3.6.12"
  },
  "toc": {
   "base_numbering": 1,
   "nav_menu": {},
   "number_sections": true,
   "sideBar": true,
   "skip_h1_title": false,
   "title_cell": "Table of Contents",
   "title_sidebar": "Contents",
   "toc_cell": false,
   "toc_position": {},
   "toc_section_display": true,
   "toc_window_display": false
  },
  "varInspector": {
   "cols": {
    "lenName": 16,
    "lenType": 16,
    "lenVar": 40
   },
   "kernels_config": {
    "python": {
     "delete_cmd_postfix": "",
     "delete_cmd_prefix": "del ",
     "library": "var_list.py",
     "varRefreshCmd": "print(var_dic_list())"
    },
    "r": {
     "delete_cmd_postfix": ") ",
     "delete_cmd_prefix": "rm(",
     "library": "var_list.r",
     "varRefreshCmd": "cat(var_dic_list()) "
    }
   },
   "types_to_exclude": [
    "module",
    "function",
    "builtin_function_or_method",
    "instance",
    "_Feature"
   ],
   "window_display": false
  }
 },
 "nbformat": 4,
 "nbformat_minor": 4
}
